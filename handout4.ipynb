{
 "cells": [
  {
   "cell_type": "code",
   "execution_count": 1,
   "metadata": {},
   "outputs": [],
   "source": [
    "import numpy as np\n",
    "import pandas as pd\n",
    "import matplotlib.pyplot as plt\n",
    "import seaborn as sns\n",
    "\n",
    "from scipy import stats\n",
    "\n",
    "plt.rcParams[\"figure.figsize\"] = (14, 8)\n",
    "sns.set_style(\"whitegrid\")"
   ]
  },
  {
   "cell_type": "markdown",
   "metadata": {},
   "source": [
    "## Problem 4.5"
   ]
  },
  {
   "cell_type": "code",
   "execution_count": 2,
   "metadata": {},
   "outputs": [],
   "source": [
    "def uniform_sampler(size, theta=2, seed=0):\n",
    "    \"\"\"Draw uniform samples with upper bound.\n",
    "\n",
    "    Args:\n",
    "        size (int): Number of samples to draw.\n",
    "        theta (float): Positive float denoting the upper bound\n",
    "            of the underlying uniform distribution. Defaults to 2.\n",
    "        seed (int): Random number generator seed. Defaults to 1.\n",
    "\n",
    "    Returns:\n",
    "        samples (np.ndarray): 1d array containing samples.\n",
    "\n",
    "    \"\"\"\n",
    "    np.random.seed(seed)\n",
    "    samples = np.random.uniform(high=theta, size=size)\n",
    "    return samples"
   ]
  },
  {
   "cell_type": "code",
   "execution_count": 3,
   "metadata": {},
   "outputs": [],
   "source": [
    "def estimator_naive(sample):\n",
    "    \"\"\"Estimate upper bound of uniform variables.\n",
    "\n",
    "    Estimates parameter using:\n",
    "\n",
    "        \\hat{\\theta} = 2 * sum_i sample_i\n",
    "\n",
    "    Args:\n",
    "        sample (np.ndarray): 1d array of uniform samples.\n",
    "\n",
    "    Returns:\n",
    "        estimate (float): Estimate of upper bound of\n",
    "            theoretical uniform distibution.\n",
    "\n",
    "    \"\"\"\n",
    "    estimate = 2 * sample.mean()\n",
    "    return estimate"
   ]
  },
  {
   "cell_type": "code",
   "execution_count": 4,
   "metadata": {},
   "outputs": [],
   "source": [
    "def estimator_super_consistent(sample):\n",
    "    \"\"\"Estimate upper bound of uniform variables.\n",
    "\n",
    "    Estimates parameter using:\n",
    "\n",
    "        \\tilde{\\theta} = \\max_i sample_i,\n",
    "\n",
    "    which results in a super-consistent estimator.\n",
    "\n",
    "    Args:\n",
    "        sample (np.ndarray): 1d array of uniform samples.\n",
    "\n",
    "    Returns:\n",
    "        estimate (float): Estimate of upper bound of\n",
    "            theoretical uniform distibution.\n",
    "\n",
    "    \"\"\"\n",
    "    estimate = sample.max()\n",
    "    return estimate"
   ]
  },
  {
   "cell_type": "markdown",
   "metadata": {},
   "source": [
    "### i) and ii)"
   ]
  },
  {
   "cell_type": "code",
   "execution_count": 5,
   "metadata": {},
   "outputs": [],
   "source": [
    "samples = uniform_sampler(size=100)"
   ]
  },
  {
   "cell_type": "code",
   "execution_count": 6,
   "metadata": {},
   "outputs": [
    {
     "data": {
      "text/plain": [
       "1.8911753580500708"
      ]
     },
     "execution_count": 6,
     "metadata": {},
     "output_type": "execute_result"
    }
   ],
   "source": [
    "estimator_naive(samples)"
   ]
  },
  {
   "cell_type": "code",
   "execution_count": 7,
   "metadata": {},
   "outputs": [
    {
     "data": {
      "text/plain": [
       "1.9767476761184524"
      ]
     },
     "execution_count": 7,
     "metadata": {},
     "output_type": "execute_result"
    }
   ],
   "source": [
    "estimator_super_consistent(samples)"
   ]
  },
  {
   "cell_type": "markdown",
   "metadata": {},
   "source": [
    "### a) and b)"
   ]
  },
  {
   "cell_type": "code",
   "execution_count": 8,
   "metadata": {},
   "outputs": [],
   "source": [
    "def monte_carlo_study(runs=10_000, sample_size=100, theta=2):\n",
    "    \"\"\"Study behavior of the above estimators.\n",
    "\n",
    "    Args:\n",
    "        runs (int): Monte Carlo runs. Defaults to 10_000.\n",
    "        sample_size (int): Sample size in each run. Defaults to 100.\n",
    "        theta (float): Positive float denoting the upper bound\n",
    "            of the underlying uniform distribution. Defaults to 2.\n",
    "\n",
    "    Returns:\n",
    "        df (pd.DataFrame): Tidy data frame containing simulation results.\n",
    "\n",
    "    \"\"\"\n",
    "    results = np.empty((runs, 2))\n",
    "    for run in range(runs):\n",
    "        sample = uniform_sampler(size=sample_size, theta=theta, seed=run)\n",
    "        naive = estimator_naive(sample)\n",
    "        super_consistent = estimator_super_consistent(sample)\n",
    "        results[run, 0] = naive\n",
    "        results[run, 1] = super_consistent\n",
    "\n",
    "    df = pd.DataFrame(results, index=range(runs), columns=[\"naive\", \"super_consistent\"])\n",
    "\n",
    "    df = df.melt(value_name=\"estimate\", var_name=\"estimator\")\n",
    "    return df"
   ]
  },
  {
   "cell_type": "code",
   "execution_count": 9,
   "metadata": {},
   "outputs": [],
   "source": [
    "df = monte_carlo_study(runs=10_000)"
   ]
  },
  {
   "cell_type": "code",
   "execution_count": 10,
   "metadata": {},
   "outputs": [
    {
     "data": {
      "text/plain": [
       "<AxesSubplot:xlabel='estimate', ylabel='Count'>"
      ]
     },
     "execution_count": 10,
     "metadata": {},
     "output_type": "execute_result"
    },
    {
     "data": {
      "image/png": "[encoded data removed]",
      "text/plain": [
       "<Figure size 1008x576 with 1 Axes>"
      ]
     },
     "metadata": {},
     "output_type": "display_data"
    }
   ],
   "source": [
    "plt.box(False)\n",
    "sns.histplot(df, x=\"estimate\", hue=\"estimator\", kde=True)"
   ]
  },
  {
   "cell_type": "code",
   "execution_count": 11,
   "metadata": {
    "scrolled": true
   },
   "outputs": [
    {
     "data": {
      "text/html": [
       "<div>\n",
       "<style scoped>\n",
       "    .dataframe tbody tr th:only-of-type {\n",
       "        vertical-align: middle;\n",
       "    }\n",
       "\n",
       "    .dataframe tbody tr th {\n",
       "        vertical-align: top;\n",
       "    }\n",
       "\n",
       "    .dataframe thead th {\n",
       "        text-align: right;\n",
       "    }\n",
       "</style>\n",
       "<table border=\"1\" class=\"dataframe\">\n",
       "  <thead>\n",
       "    <tr style=\"text-align: right;\">\n",
       "      <th></th>\n",
       "      <th>variance</th>\n",
       "      <th>bias_squared</th>\n",
       "    </tr>\n",
       "    <tr>\n",
       "      <th>estimator</th>\n",
       "      <th></th>\n",
       "      <th></th>\n",
       "    </tr>\n",
       "  </thead>\n",
       "  <tbody>\n",
       "    <tr>\n",
       "      <td>naive</td>\n",
       "      <td>0.013119</td>\n",
       "      <td>6.801363e-10</td>\n",
       "    </tr>\n",
       "    <tr>\n",
       "      <td>super_consistent</td>\n",
       "      <td>0.000385</td>\n",
       "      <td>3.788374e-04</td>\n",
       "    </tr>\n",
       "  </tbody>\n",
       "</table>\n",
       "</div>"
      ],
      "text/plain": [
       "                  variance  bias_squared\n",
       "estimator                               \n",
       "naive             0.013119  6.801363e-10\n",
       "super_consistent  0.000385  3.788374e-04"
      ]
     },
     "execution_count": 11,
     "metadata": {},
     "output_type": "execute_result"
    }
   ],
   "source": [
    "results = df.groupby(\"estimator\").agg([\"mean\", \"var\"])\n",
    "results.columns = [\"mean\", \"variance\"]\n",
    "results[\"bias_squared\"] = (results[\"mean\"] - 2) ** 2\n",
    "results = results.drop(\"mean\", axis=1)\n",
    "results"
   ]
  },
  {
   "cell_type": "code",
   "execution_count": 12,
   "metadata": {},
   "outputs": [
    {
     "data": {
      "text/html": [
       "<div>\n",
       "<style scoped>\n",
       "    .dataframe tbody tr th:only-of-type {\n",
       "        vertical-align: middle;\n",
       "    }\n",
       "\n",
       "    .dataframe tbody tr th {\n",
       "        vertical-align: top;\n",
       "    }\n",
       "\n",
       "    .dataframe thead th {\n",
       "        text-align: right;\n",
       "    }\n",
       "</style>\n",
       "<table border=\"1\" class=\"dataframe\">\n",
       "  <thead>\n",
       "    <tr style=\"text-align: right;\">\n",
       "      <th></th>\n",
       "      <th>mean_squared_error</th>\n",
       "    </tr>\n",
       "    <tr>\n",
       "      <th>estimator</th>\n",
       "      <th></th>\n",
       "    </tr>\n",
       "  </thead>\n",
       "  <tbody>\n",
       "    <tr>\n",
       "      <td>naive</td>\n",
       "      <td>0.013119</td>\n",
       "    </tr>\n",
       "    <tr>\n",
       "      <td>super_consistent</td>\n",
       "      <td>0.000764</td>\n",
       "    </tr>\n",
       "  </tbody>\n",
       "</table>\n",
       "</div>"
      ],
      "text/plain": [
       "                  mean_squared_error\n",
       "estimator                           \n",
       "naive                       0.013119\n",
       "super_consistent            0.000764"
      ]
     },
     "execution_count": 12,
     "metadata": {},
     "output_type": "execute_result"
    }
   ],
   "source": [
    "pd.DataFrame(results.sum(axis=1), columns=[\"mean_squared_error\"])"
   ]
  },
  {
   "cell_type": "markdown",
   "metadata": {},
   "source": [
    "## Problem 4.6"
   ]
  },
  {
   "cell_type": "code",
   "execution_count": 13,
   "metadata": {},
   "outputs": [],
   "source": [
    "data_path = \"https://www.ssc.wisc.edu/~bhansen/econometrics/cps09mar.txt\"\n",
    "raw_data = pd.read_csv(data_path, sep=\"\\t\", header=None)"
   ]
  },
  {
   "cell_type": "code",
   "execution_count": 14,
   "metadata": {},
   "outputs": [],
   "source": [
    "df = raw_data[[3, 4]].copy().rename({3: \"education\", 4: \"earnings\"}, axis=1)"
   ]
  },
  {
   "cell_type": "markdown",
   "metadata": {},
   "source": [
    "#### a) and b)"
   ]
  },
  {
   "cell_type": "code",
   "execution_count": 15,
   "metadata": {},
   "outputs": [
    {
     "data": {
      "text/html": [
       "<div>\n",
       "<style scoped>\n",
       "    .dataframe tbody tr th:only-of-type {\n",
       "        vertical-align: middle;\n",
       "    }\n",
       "\n",
       "    .dataframe tbody tr th {\n",
       "        vertical-align: top;\n",
       "    }\n",
       "\n",
       "    .dataframe thead th {\n",
       "        text-align: right;\n",
       "    }\n",
       "</style>\n",
       "<table border=\"1\" class=\"dataframe\">\n",
       "  <thead>\n",
       "    <tr style=\"text-align: right;\">\n",
       "      <th></th>\n",
       "      <th>education</th>\n",
       "      <th>earnings</th>\n",
       "    </tr>\n",
       "  </thead>\n",
       "  <tbody>\n",
       "    <tr>\n",
       "      <td>mean</td>\n",
       "      <td>13.924619</td>\n",
       "      <td>5.509153e+04</td>\n",
       "    </tr>\n",
       "    <tr>\n",
       "      <td>var</td>\n",
       "      <td>7.531989</td>\n",
       "      <td>2.727145e+09</td>\n",
       "    </tr>\n",
       "  </tbody>\n",
       "</table>\n",
       "</div>"
      ],
      "text/plain": [
       "      education      earnings\n",
       "mean  13.924619  5.509153e+04\n",
       "var    7.531989  2.727145e+09"
      ]
     },
     "execution_count": 15,
     "metadata": {},
     "output_type": "execute_result"
    }
   ],
   "source": [
    "df.agg([\"mean\", \"var\"])"
   ]
  },
  {
   "cell_type": "code",
   "execution_count": 16,
   "metadata": {},
   "outputs": [
    {
     "data": {
      "text/html": [
       "<div>\n",
       "<style scoped>\n",
       "    .dataframe tbody tr th:only-of-type {\n",
       "        vertical-align: middle;\n",
       "    }\n",
       "\n",
       "    .dataframe tbody tr th {\n",
       "        vertical-align: top;\n",
       "    }\n",
       "\n",
       "    .dataframe thead th {\n",
       "        text-align: right;\n",
       "    }\n",
       "</style>\n",
       "<table border=\"1\" class=\"dataframe\">\n",
       "  <thead>\n",
       "    <tr style=\"text-align: right;\">\n",
       "      <th></th>\n",
       "      <th>education</th>\n",
       "      <th>earnings</th>\n",
       "    </tr>\n",
       "  </thead>\n",
       "  <tbody>\n",
       "    <tr>\n",
       "      <td>education</td>\n",
       "      <td>7.531989</td>\n",
       "      <td>5.508999e+04</td>\n",
       "    </tr>\n",
       "    <tr>\n",
       "      <td>earnings</td>\n",
       "      <td>55089.985177</td>\n",
       "      <td>2.727145e+09</td>\n",
       "    </tr>\n",
       "  </tbody>\n",
       "</table>\n",
       "</div>"
      ],
      "text/plain": [
       "              education      earnings\n",
       "education      7.531989  5.508999e+04\n",
       "earnings   55089.985177  2.727145e+09"
      ]
     },
     "execution_count": 16,
     "metadata": {},
     "output_type": "execute_result"
    }
   ],
   "source": [
    "df.cov()"
   ]
  },
  {
   "cell_type": "code",
   "execution_count": 17,
   "metadata": {},
   "outputs": [
    {
     "data": {
      "text/html": [
       "<div>\n",
       "<style scoped>\n",
       "    .dataframe tbody tr th:only-of-type {\n",
       "        vertical-align: middle;\n",
       "    }\n",
       "\n",
       "    .dataframe tbody tr th {\n",
       "        vertical-align: top;\n",
       "    }\n",
       "\n",
       "    .dataframe thead th {\n",
       "        text-align: right;\n",
       "    }\n",
       "</style>\n",
       "<table border=\"1\" class=\"dataframe\">\n",
       "  <thead>\n",
       "    <tr style=\"text-align: right;\">\n",
       "      <th></th>\n",
       "      <th>education</th>\n",
       "      <th>earnings</th>\n",
       "    </tr>\n",
       "  </thead>\n",
       "  <tbody>\n",
       "    <tr>\n",
       "      <td>education</td>\n",
       "      <td>1.000000</td>\n",
       "      <td>0.384383</td>\n",
       "    </tr>\n",
       "    <tr>\n",
       "      <td>earnings</td>\n",
       "      <td>0.384383</td>\n",
       "      <td>1.000000</td>\n",
       "    </tr>\n",
       "  </tbody>\n",
       "</table>\n",
       "</div>"
      ],
      "text/plain": [
       "           education  earnings\n",
       "education   1.000000  0.384383\n",
       "earnings    0.384383  1.000000"
      ]
     },
     "execution_count": 17,
     "metadata": {},
     "output_type": "execute_result"
    }
   ],
   "source": [
    "df.corr()"
   ]
  },
  {
   "cell_type": "markdown",
   "metadata": {},
   "source": [
    "#### c)"
   ]
  },
  {
   "cell_type": "code",
   "execution_count": 18,
   "metadata": {},
   "outputs": [],
   "source": [
    "def confidence_interval(samples, alpha):\n",
    "    \"\"\"Compute confidence interval.\n",
    "\n",
    "    Args:\n",
    "        samples (pd.Series): Samples.\n",
    "        alpha (float): Confidence parameter in [0, 1]. For a\n",
    "            90%-confidence interval pass alpha = 0.9.\n",
    "\n",
    "    Returns:\n",
    "        interval (tuple): Lower and upper bound of the interval.\n",
    "\n",
    "    \"\"\"\n",
    "    alpha = 1 - alpha\n",
    "    n = len(samples)\n",
    "    t_quantile = stats.t.ppf(1 - alpha / 2, n - 1)\n",
    "\n",
    "    mean = samples.mean()\n",
    "    std = samples.std()  # is normalized by (n-1)\n",
    "\n",
    "    adjustment = t_quantile * std / np.sqrt(n)\n",
    "\n",
    "    interval = (mean - adjustment, mean + adjustment)\n",
    "    return interval"
   ]
  },
  {
   "cell_type": "code",
   "execution_count": 19,
   "metadata": {},
   "outputs": [
    {
     "data": {
      "text/plain": [
       "(13.904578265773665, 13.944659052424278)"
      ]
     },
     "execution_count": 19,
     "metadata": {},
     "output_type": "execute_result"
    }
   ],
   "source": [
    "confidence_interval(df[\"education\"], alpha=0.90)"
   ]
  },
  {
   "cell_type": "code",
   "execution_count": 20,
   "metadata": {},
   "outputs": [
    {
     "data": {
      "text/plain": [
       "(54494.35279667348, 55688.7085726064)"
      ]
     },
     "execution_count": 20,
     "metadata": {},
     "output_type": "execute_result"
    }
   ],
   "source": [
    "confidence_interval(df[\"earnings\"], alpha=0.99)"
   ]
  },
  {
   "cell_type": "markdown",
   "metadata": {},
   "source": [
    "#### d)\n",
    "\n",
    "Well ..."
   ]
  },
  {
   "cell_type": "code",
   "execution_count": 21,
   "metadata": {},
   "outputs": [
    {
     "data": {
      "text/plain": [
       "<AxesSubplot:xlabel='education', ylabel='Count'>"
      ]
     },
     "execution_count": 21,
     "metadata": {},
     "output_type": "execute_result"
    },
    {
     "data": {
      "image/png": "[encoded data removed]",
      "text/plain": [
       "<Figure size 1008x576 with 1 Axes>"
      ]
     },
     "metadata": {},
     "output_type": "display_data"
    }
   ],
   "source": [
    "plt.box(False)\n",
    "sns.histplot(df[\"education\"])  # not normal"
   ]
  },
  {
   "cell_type": "code",
   "execution_count": 22,
   "metadata": {},
   "outputs": [
    {
     "data": {
      "text/plain": [
       "<AxesSubplot:xlabel='earnings', ylabel='Count'>"
      ]
     },
     "execution_count": 22,
     "metadata": {},
     "output_type": "execute_result"
    },
    {
     "data": {
      "image/png": "[encoded data removed]",
      "text/plain": [
       "<Figure size 1008x576 with 1 Axes>"
      ]
     },
     "metadata": {},
     "output_type": "display_data"
    }
   ],
   "source": [
    "plt.box(False)\n",
    "sns.histplot(df[\"earnings\"])  # not normal"
   ]
  }
 ],
 "metadata": {
  "kernelspec": {
   "display_name": "Python 3",
   "language": "python",
   "name": "python3"
  },
  "language_info": {
   "codemirror_mode": {
    "name": "ipython",
    "version": 3
   },
   "file_extension": ".py",
   "mimetype": "text/x-python",
   "name": "python",
   "nbconvert_exporter": "python",
   "pygments_lexer": "ipython3",
   "version": "3.7.9"
  }
 },
 "nbformat": 4,
 "nbformat_minor": 4
}
