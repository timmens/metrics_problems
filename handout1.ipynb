{
 "cells": [
  {
   "cell_type": "markdown",
   "metadata": {},
   "source": [
    "# Handout 1\n",
    "\n",
    "---\n",
    "\n",
    "*Tim Mensinger*"
   ]
  },
  {
   "cell_type": "code",
   "execution_count": 1,
   "metadata": {},
   "outputs": [],
   "source": [
    "import numpy as np\n",
    "import pandas as pd\n",
    "import scipy as sp\n",
    "\n",
    "from pathlib import Path\n",
    "from functools import partial"
   ]
  },
  {
   "cell_type": "markdown",
   "metadata": {},
   "source": [
    "## Problem 1.1"
   ]
  },
  {
   "cell_type": "code",
   "execution_count": 2,
   "metadata": {},
   "outputs": [],
   "source": [
    "DATA_PATH = Path(\"data/angrist_evans_1980.csv\")"
   ]
  },
  {
   "cell_type": "code",
   "execution_count": 3,
   "metadata": {},
   "outputs": [],
   "source": [
    "cols = [\n",
    "    \"workedm\",\n",
    "    \"weeksm1\",\n",
    "    \"hourswm\",\n",
    "    \"incomem\",\n",
    "    \"famincl\",\n",
    "    \"agem1\",\n",
    "    \"agefstm\",\n",
    "    \"boy1st\",\n",
    "    \"boy2nd\",\n",
    "    \"blackm\",\n",
    "    \"hispm\",\n",
    "    \"othracem\",\n",
    "    \"morekids\",\n",
    "    \"samesex\",\n",
    "]\n",
    "df = pd.read_csv(DATA_PATH)"
   ]
  },
  {
   "cell_type": "code",
   "execution_count": 4,
   "metadata": {},
   "outputs": [],
   "source": [
    "categories = [\"all\", \"married\", \"husband\"]"
   ]
  },
  {
   "cell_type": "markdown",
   "metadata": {},
   "source": [
    "## Problem 1.2"
   ]
  },
  {
   "cell_type": "code",
   "execution_count": 5,
   "metadata": {},
   "outputs": [],
   "source": [
    "def simulate_model(gamma, beta, n_samples, n_sim):\n",
    "    \"\"\"Simulate model.\"\"\"\n",
    "    mean = np.array([1, 0, 0])\n",
    "    cov = np.diag([1, 1, 1])\n",
    "    cov[2, 1] = .8\n",
    "    cov[1, 2] = .8\n",
    "    mvnormal = np.random.multivariate_normal(mean, cov, size=(n_samples, n_sim))\n",
    "    z, e, v = mvnormal.swapaxes(0, 2)\n",
    "    x = z * gamma + v\n",
    "    y = x * beta + e\n",
    "    return y, x, z"
   ]
  },
  {
   "cell_type": "code",
   "execution_count": 6,
   "metadata": {},
   "outputs": [],
   "source": [
    "def ols_1d(y, x):\n",
    "    top = np.mean(x * y, axis=1) - np.mean(x, axis=1) * np.mean(y, axis=1)\n",
    "    bottom = np.var(x, axis=1)\n",
    "    slope = top / bottom\n",
    "    return slope"
   ]
  },
  {
   "cell_type": "code",
   "execution_count": 7,
   "metadata": {},
   "outputs": [],
   "source": [
    "def iv_1d(y, x, z):\n",
    "    top = np.mean(z * y, axis=1) - np.mean(z, axis=1) * np.mean(y, axis=1)\n",
    "    bottom = np.mean(z * x, axis=1) - np.mean(z, axis=1) * np.mean(x, axis=1)\n",
    "    slope = top / bottom\n",
    "    return slope"
   ]
  },
  {
   "cell_type": "code",
   "execution_count": 8,
   "metadata": {},
   "outputs": [],
   "source": [
    "gamma_grid = np.linspace(0, 5/25, num=6)"
   ]
  },
  {
   "cell_type": "code",
   "execution_count": 9,
   "metadata": {},
   "outputs": [],
   "source": [
    "model = partial(simulate_model, **{\"n_samples\": 625, \"beta\": 1})"
   ]
  },
  {
   "cell_type": "code",
   "execution_count": 10,
   "metadata": {},
   "outputs": [],
   "source": [
    "y, x, z = model(gamma=10, n_sim=5_000)"
   ]
  },
  {
   "cell_type": "code",
   "execution_count": 11,
   "metadata": {},
   "outputs": [],
   "source": [
    "ols_estimate = ols_1d(y, x)"
   ]
  },
  {
   "cell_type": "code",
   "execution_count": 12,
   "metadata": {},
   "outputs": [],
   "source": [
    "iv_estimate = iv_1d(y, x, z)"
   ]
  },
  {
   "cell_type": "markdown",
   "metadata": {},
   "source": [
    "## Problem 1.5\n",
    "\n",
    "Monte Carlo Simulation"
   ]
  },
  {
   "cell_type": "code",
   "execution_count": 189,
   "metadata": {},
   "outputs": [],
   "source": [
    "n_samples = 200\n",
    "n_sim = 100_000\n",
    "\n",
    "beta = np.array([3, 2])"
   ]
  },
  {
   "cell_type": "code",
   "execution_count": 190,
   "metadata": {},
   "outputs": [],
   "source": [
    "e, v, w = np.random.normal(0, np.sqrt(0.5), size=(3, n_sim, n_samples))\n",
    "\n",
    "x_star = np.random.normal(1, 1, (n_sim, n_samples))"
   ]
  },
  {
   "cell_type": "code",
   "execution_count": 191,
   "metadata": {},
   "outputs": [],
   "source": [
    "x = x_star + v\n",
    "z = x_star + w\n",
    "\n",
    "y = beta[0] + beta[1] * x_star + e"
   ]
  },
  {
   "cell_type": "code",
   "execution_count": 192,
   "metadata": {},
   "outputs": [],
   "source": [
    "x_demeaned = x - x.mean(axis=1).reshape(-1, 1)\n",
    "z_demeaned = z - z.mean(axis=1).reshape(-1, 1)\n",
    "\n",
    "beta_hat = (x_demeaned * y).sum(axis=1) / (x_demeaned * x).sum(axis=1)\n",
    "beta_tilde = (z_demeaned * y).sum(axis=1) / (z_demeaned * x).sum(axis=1)"
   ]
  },
  {
   "cell_type": "code",
   "execution_count": 193,
   "metadata": {},
   "outputs": [],
   "source": [
    "intercept_hat = y.mean(axis=1) - beta_hat * x.mean(axis=1)\n",
    "intercept_tilde = y.mean(axis=1) - beta_tilde * x.mean(axis=1)"
   ]
  },
  {
   "cell_type": "code",
   "execution_count": 194,
   "metadata": {},
   "outputs": [],
   "source": [
    "res_hat = y - intercept_hat.reshape(-1, 1) - beta_hat.reshape(-1, 1) * x\n",
    "res_tilde = y - intercept_tilde.reshape(-1, 1) - beta_tilde.reshape(-1, 1) * x"
   ]
  },
  {
   "cell_type": "code",
   "execution_count": 195,
   "metadata": {},
   "outputs": [],
   "source": [
    "# HC1 estimator\n",
    "\n",
    "var_hat = ((res_hat ** 2) * (x ** 2)).sum(axis=1) / ((x ** 2).sum(axis=1) ** 2)\n",
    "var_tilde = (res_tilde ** 2).mean(axis=1) * (z_demeaned ** 2).mean(axis=1) / ((x_demeaned * z_demeaned).mean(axis=1) ** 2)\n",
    "\n",
    "sd_hat = np.sqrt(var_hat / n_samples)\n",
    "sd_tilde = np.sqrt(var_tilde / n_samples)"
   ]
  },
  {
   "cell_type": "code",
   "execution_count": 196,
   "metadata": {},
   "outputs": [],
   "source": [
    "coverage_hat = np.logical_and(\n",
    "    beta_hat - 1.96 * sd_hat <= beta[1], beta[1] <= beta_hat + 1.96 * sd_hat\n",
    ").mean()\n",
    "coverage_tilde = np.logical_and(\n",
    "    beta_tilde - 1.96 * sd_tilde <= beta[1], beta[1] <= beta_tilde + 1.96 * sd_tilde\n",
    ").mean()"
   ]
  },
  {
   "cell_type": "code",
   "execution_count": 197,
   "metadata": {},
   "outputs": [],
   "source": [
    "def evaluate(method, true, name, cvg):\n",
    "    mean = method.mean()\n",
    "    sd = np.sqrt(method.var())\n",
    "    mse = ((method - true) ** 2).mean()\n",
    "    return name, mean, sd, mse, cvg"
   ]
  },
  {
   "cell_type": "code",
   "execution_count": 198,
   "metadata": {},
   "outputs": [],
   "source": [
    "data = [\n",
    "    evaluate(method, beta[1], name, cvg)\n",
    "    for method, name, cvg in zip(\n",
    "        (beta_hat, beta_tilde), (\"ols\", \"iv\"), (coverage_hat, coverage_tilde)\n",
    "    )\n",
    "]"
   ]
  },
  {
   "cell_type": "code",
   "execution_count": 199,
   "metadata": {},
   "outputs": [],
   "source": [
    "results = pd.DataFrame(data, columns=[\"method\", \"mean\", \"sd\", \"mse\", \"coverage\"])"
   ]
  },
  {
   "cell_type": "code",
   "execution_count": 202,
   "metadata": {},
   "outputs": [
    {
     "name": "stdout",
     "output_type": "stream",
     "text": [
      "  method      mean        sd       mse  coverage\n",
      "0    ols  1.333370  0.078818  0.450607   0.00000\n",
      "1     iv  2.008254  0.140270  0.019744   0.95015\n"
     ]
    }
   ],
   "source": [
    "print(results.to_string())"
   ]
  }
 ],
 "metadata": {
  "kernelspec": {
   "display_name": "Python 3",
   "language": "python",
   "name": "python3"
  },
  "language_info": {
   "codemirror_mode": {
    "name": "ipython",
    "version": 3
   },
   "file_extension": ".py",
   "mimetype": "text/x-python",
   "name": "python",
   "nbconvert_exporter": "python",
   "pygments_lexer": "ipython3",
   "version": "3.7.10"
  }
 },
 "nbformat": 4,
 "nbformat_minor": 4
}
