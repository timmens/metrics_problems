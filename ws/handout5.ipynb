{
 "cells": [
  {
   "cell_type": "markdown",
   "metadata": {},
   "source": [
    "### Problem 8 --- Handout 5"
   ]
  },
  {
   "cell_type": "code",
   "execution_count": 1,
   "metadata": {},
   "outputs": [],
   "source": [
    "import numpy as np\n",
    "import matplotlib.pyplot as plt\n",
    "\n",
    "from numba import njit\n",
    "from scipy.stats import norm"
   ]
  },
  {
   "cell_type": "code",
   "execution_count": 2,
   "metadata": {},
   "outputs": [],
   "source": [
    "def draw_sample(size, scale=1, seed=0):\n",
    "    \"\"\"Draws random exponential samples.\n",
    "\n",
    "    Args:\n",
    "        size (tuple): Size of sample.\n",
    "        scale (float): Expected value of distribution.\n",
    "        seed (int): Random number generator seed.\n",
    "\n",
    "    Returns:\n",
    "        sample (np.ndarray): Samples of size ``size``.\n",
    "\n",
    "    \"\"\"\n",
    "    np.random.seed(seed)\n",
    "    sample = np.random.exponential(scale, size)\n",
    "    return sample"
   ]
  },
  {
   "cell_type": "code",
   "execution_count": 3,
   "metadata": {},
   "outputs": [],
   "source": [
    "def sample_mean(sample, size):\n",
    "    \"\"\"Compute row means for 2d array.\n",
    "\n",
    "    Args:\n",
    "        sample (np.ndarray): 2d array of shape (n, m).\n",
    "        size (int): Number of columns of sample (m).\n",
    "\n",
    "    Returns:\n",
    "        mean: (np.ndarray): Row means array of size (n).\n",
    "\n",
    "    \"\"\"\n",
    "    mean = np.einsum(\"ij->i\", sample) / size\n",
    "    return mean"
   ]
  },
  {
   "cell_type": "code",
   "execution_count": 4,
   "metadata": {},
   "outputs": [],
   "source": [
    "def sample_variance(sample, size, mean=None):\n",
    "    \"\"\"Compute sample variance for each row of array.\n",
    "\n",
    "    Args:\n",
    "        sample (np.ndarray): 2d array of shape (n, m).\n",
    "        size (int): Number of columns of sample (m).\n",
    "        mean (np.ndarrary): Pre-computed mean. Defaults to None\n",
    "            in which case the mean is computed internally.\n",
    "\n",
    "    Returns:\n",
    "        variance (np.ndarray): Row variances array of size (n).\n",
    "\n",
    "    \"\"\"\n",
    "    mean = sample_mean(sample, size) if mean is None else mean\n",
    "    variance = sample_mean(sample ** 2, size) - mean ** 2\n",
    "    variance = size * variance / (size - 1)\n",
    "    return variance"
   ]
  },
  {
   "cell_type": "code",
   "execution_count": 5,
   "metadata": {},
   "outputs": [],
   "source": [
    "def confidence_interval(mean, variance, size, alpha):\n",
    "    \"\"\"Compute confidence interval.\n",
    "\n",
    "    Args:\n",
    "        mean (np.ndarray): Mean array of size (n,).\n",
    "        variance (np.ndarray): Variance array of size (n,).\n",
    "        size (int): Number of samples (n).\n",
    "        alpha (float): Confidence parameter.\n",
    "\n",
    "    Returns:\n",
    "        left (np.ndarray): Left bounds array of size (n,).\n",
    "        right (np.ndarray): Right bounds array of size (n,).\n",
    "\n",
    "    \"\"\"\n",
    "    quantile = norm.ppf(1 - alpha / 2)\n",
    "    factor = quantile / np.sqrt(size)\n",
    "    scaled_variance = factor * variance\n",
    "    left = mean - scaled_variance\n",
    "    right = mean + scaled_variance\n",
    "    return left, right"
   ]
  },
  {
   "cell_type": "code",
   "execution_count": 6,
   "metadata": {},
   "outputs": [],
   "source": [
    "def simulation(runs=100_000, size=50, alpha=0.05, scale=1, seed=0):\n",
    "    \"\"\"Monte Carlo simulation.\n",
    "\n",
    "     Computes frequency of times when true mean parameter of\n",
    "     distribution was contained in estimated confidence interval.\n",
    "\n",
    "    Args:\n",
    "        runs (int): Number of Monte Carlo runs.\n",
    "        size (int): Size of random sample in each run.\n",
    "        alpha (float): Confidence parameter.\n",
    "        scale (float): Expected value of distribution from which we\n",
    "            sample in the simulation.\n",
    "        seed (int): Random number generator seed.\n",
    "\n",
    "    Returns:\n",
    "        coverage (float): True coverage frequency.\n",
    "\n",
    "    \"\"\"\n",
    "    sample = draw_sample((runs, size), scale, seed)\n",
    "    mean = sample_mean(sample, size)\n",
    "    variance = sample_variance(sample, size, mean)\n",
    "\n",
    "    left, right = confidence_interval(mean, variance, size, alpha)\n",
    "\n",
    "    covered = (left < scale) & (scale < right)\n",
    "    coverage = covered.mean()\n",
    "    return coverage"
   ]
  },
  {
   "cell_type": "code",
   "execution_count": 7,
   "metadata": {},
   "outputs": [
    {
     "data": {
      "text/plain": [
       "0.8937"
      ]
     },
     "execution_count": 7,
     "metadata": {},
     "output_type": "execute_result"
    }
   ],
   "source": [
    "simulation(runs=20_000, size=50, alpha=0.05, scale=1, seed=0)"
   ]
  },
  {
   "cell_type": "code",
   "execution_count": 8,
   "metadata": {},
   "outputs": [
    {
     "data": {
      "text/plain": [
       "0.94595"
      ]
     },
     "execution_count": 8,
     "metadata": {},
     "output_type": "execute_result"
    }
   ],
   "source": [
    "simulation(runs=20_000, size=1_000, alpha=0.05, scale=1, seed=0)"
   ]
  }
 ],
 "metadata": {
  "kernelspec": {
   "display_name": "Python 3",
   "language": "python",
   "name": "python3"
  },
  "language_info": {
   "codemirror_mode": {
    "name": "ipython",
    "version": 3
   },
   "file_extension": ".py",
   "mimetype": "text/x-python",
   "name": "python",
   "nbconvert_exporter": "python",
   "pygments_lexer": "ipython3",
   "version": "3.7.9"
  }
 },
 "nbformat": 4,
 "nbformat_minor": 4
}
